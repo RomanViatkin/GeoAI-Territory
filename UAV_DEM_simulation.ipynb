{
 "cells": [
  {
   "cell_type": "markdown",
   "id": "ce54c659",
   "metadata": {},
   "source": [
    "# 🛰️ UAV DEM Simulation Notebook\n",
    "\n",
    "This notebook demonstrates how to visualize a high-resolution UAV image and simulate a basic Digital Elevation Model (DEM) overlay using synthetic data."
   ]
  },
  {
   "cell_type": "code",
   "execution_count": null,
   "id": "21c7b6b1",
   "metadata": {},
   "outputs": [],
   "source": [
    "# Required packages (install if needed)\n",
    "# !pip install matplotlib numpy pillow"
   ]
  },
  {
   "cell_type": "code",
   "execution_count": null,
   "id": "b423411e",
   "metadata": {},
   "outputs": [],
   "source": [
    "import numpy as np\n",
    "import matplotlib.pyplot as plt\n",
    "from PIL import Image\n",
    "\n",
    "# Load UAV image (adjust the path if running locally)\n",
    "img_path = '../ChatGPT Image 1 квіт. 2025 р., 22_46_15.png'\n",
    "uav_img = Image.open(img_path)\n",
    "\n",
    "# Display the UAV image\n",
    "plt.figure(figsize=(10, 6))\n",
    "plt.imshow(uav_img)\n",
    "plt.title('Original UAV Image')\n",
    "plt.axis('off')\n",
    "plt.show()"
   ]
  },
  {
   "cell_type": "code",
   "execution_count": null,
   "id": "9decebb8",
   "metadata": {},
   "outputs": [],
   "source": [
    "# Generate synthetic DEM data (for visualization only)\n",
    "height, width = uav_img.size[::-1]\n",
    "dem = np.random.rand(height, width) * 100  # Fake elevation data in meters\n",
    "\n",
    "# Visualize the synthetic DEM\n",
    "plt.figure(figsize=(10, 6))\n",
    "plt.imshow(dem, cmap='terrain')\n",
    "plt.colorbar(label='Elevation (m)')\n",
    "plt.title('Simulated Digital Elevation Model (DEM)')\n",
    "plt.axis('off')\n",
    "plt.show()"
   ]
  },
  {
   "cell_type": "code",
   "execution_count": null,
   "id": "eb75c1d4",
   "metadata": {},
   "outputs": [],
   "source": [
    "# Combine UAV image and DEM (transparency overlay simulation)\n",
    "plt.figure(figsize=(10, 6))\n",
    "plt.imshow(uav_img, alpha=0.6)\n",
    "plt.imshow(dem, cmap='terrain', alpha=0.4)\n",
    "plt.title('UAV Image with DEM Overlay')\n",
    "plt.axis('off')\n",
    "plt.show()"
   ]
  },
  {
   "cell_type": "markdown",
   "id": "a000e5f8",
   "metadata": {},
   "source": [
    "### 🧠 Notes\n",
    "- This is a basic simulated DEM. Real DEM data can be obtained from photogrammetric processing tools like WebODM, Pix4D, or DJI Terra.\n",
    "- Overlay visualization helps planners quickly assess terrain and possible intervention zones."
   ]
  }
 ],
 "metadata": {},
 "nbformat": 4,
 "nbformat_minor": 5
}
