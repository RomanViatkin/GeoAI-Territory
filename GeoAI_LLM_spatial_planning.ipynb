{
 "cells": [
  {
   "cell_type": "markdown",
   "id": "948a2ef0",
   "metadata": {},
   "source": [
    "# 🤖 LLM-assisted Spatial Interpretation\n",
    "\n",
    "This notebook demonstrates how to use a Large Language Model (LLM) to interpret unstructured spatial planning descriptions and extract meaningful insights for GIS-based planning."
   ]
  },
  {
   "cell_type": "code",
   "execution_count": null,
   "id": "15a18f97",
   "metadata": {},
   "outputs": [],
   "source": [
    "# Install required packages if not already installed\n",
    "# !pip install openai"
   ]
  },
  {
   "cell_type": "code",
   "execution_count": null,
   "id": "8d2aed76",
   "metadata": {},
   "outputs": [],
   "source": [
    "# Import OpenAI API (requires your API key)\n",
    "import openai\n",
    "\n",
    "# Load your API key securely (use environment variables in production)\n",
    "openai.api_key = 'YOUR_API_KEY_HERE'"
   ]
  },
  {
   "cell_type": "code",
   "execution_count": null,
   "id": "29dec5f5",
   "metadata": {},
   "outputs": [],
   "source": [
    "# Example input: unstructured land use planning description\n",
    "planning_text = '''\n",
    "The northeastern quadrant of the region is designated for mixed-use development, including light industry and residential housing. \n",
    "There are environmental concerns due to the nearby river basin, requiring a 50-meter green buffer zone.\n",
    "Educational and medical facilities are planned centrally, and traffic corridors should be adapted accordingly.\n",
    "'''"
   ]
  },
  {
   "cell_type": "code",
   "execution_count": null,
   "id": "bc7bb0d1",
   "metadata": {},
   "outputs": [],
   "source": [
    "# Prompt engineering to guide the LLM\n",
    "prompt = f\"\"\"\n",
    "You are a spatial planning assistant. Analyze the following urban planning text and extract:\n",
    "1. Key land use zones\n",
    "2. Environmental or legal constraints\n",
    "3. Infrastructure or development requirements\n",
    "\n",
    "Text:\n",
    "{planning_text}\n",
    "\"\"\"\n",
    "\n",
    "# Query the LLM\n",
    "response = openai.ChatCompletion.create(\n",
    "    model=\"gpt-4\",\n",
    "    messages=[\n",
    "        {\"role\": \"system\", \"content\": \"You are a helpful assistant.\"},\n",
    "        {\"role\": \"user\", \"content\": prompt}\n",
    "    ]\n",
    ")\n",
    "\n",
    "print(response['choices'][0]['message']['content'])"
   ]
  },
  {
   "cell_type": "markdown",
   "id": "837a3e38",
   "metadata": {},
   "source": [
    "### 🧠 Notes\n",
    "This output can be converted into GIS layer annotations, flags for zoning systems, or alerts in a spatial decision support system (SDSS)."
   ]
  },
  {
   "cell_type": "markdown",
   "id": "3574d3cb",
   "metadata": {},
   "source": [
    "### 🔐 Disclaimer\n",
    "Replace `'YOUR_API_KEY_HERE'` with your actual [OpenAI API key](https://platform.openai.com/). Never hardcode your keys in production notebooks."
   ]
  }
 ],
 "metadata": {},
 "nbformat": 4,
 "nbformat_minor": 5
}
