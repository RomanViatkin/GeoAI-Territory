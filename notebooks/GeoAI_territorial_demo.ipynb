{
 "cells": [
  {
   "cell_type": "markdown",
   "id": "cd6410de",
   "metadata": {},
   "source": [
    "# 🛰️ GeoAI Notebook: Basic Spatial Visualization\n",
    "\n",
    "This notebook demonstrates a basic workflow to visualize spatial data for territorial planning using Python."
   ]
  },
  {
   "cell_type": "code",
   "execution_count": null,
   "id": "d42489fc",
   "metadata": {},
   "outputs": [],
   "source": [
    "# Install required packages (if needed)\n",
    "# !pip install geopandas folium"
   ]
  },
  {
   "cell_type": "code",
   "execution_count": null,
   "id": "c1775d7e",
   "metadata": {},
   "outputs": [],
   "source": [
    "import geopandas as gpd\n",
    "import folium\n",
    "\n",
    "# Load sample geospatial data (GeoJSON or Shapefile)\n",
    "# Replace with your own file path\n",
    "gdf = gpd.read_file(gpd.datasets.get_path('naturalearth_lowres'))\n",
    "gdf.head()"
   ]
  },
  {
   "cell_type": "code",
   "execution_count": null,
   "id": "28456bc2",
   "metadata": {},
   "outputs": [],
   "source": [
    "# Create a basic map centered on a region\n",
    "m = folium.Map(location=[20, 0], zoom_start=2)\n",
    "\n",
    "# Add the GeoDataFrame to the map\n",
    "folium.GeoJson(gdf).add_to(m)\n",
    "\n",
    "m"
   ]
  },
  {
   "cell_type": "markdown",
   "id": "46dfce7a",
   "metadata": {},
   "source": [
    "### 🧭 Context\n",
    "This is a foundational map using publicly available data. In the real project, you can:\n",
    "- Replace this with cadastral layers or UAV-derived shapefiles\n",
    "- Apply filters to highlight zoning or development areas\n",
    "- Integrate predictions or AI analysis from other models"
   ]
  },
  {
   "cell_type": "markdown",
   "id": "56a0c76b",
   "metadata": {},
   "source": [
    "### ✅ Next Steps\n",
    "- Use real UAV/GIS layers in `data/`\n",
    "- Generate AI-assisted predictions in `ai_models/`\n",
    "- Export annotated layers for planning\n",
    "\n",
    "---\n",
    "**Author:** Vyatkin Roman Serhiiovych"
   ]
  }
 ],
 "metadata": {},
 "nbformat": 4,
 "nbformat_minor": 5
}
